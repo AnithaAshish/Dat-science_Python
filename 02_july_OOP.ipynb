{
 "cells": [
  {
   "cell_type": "code",
   "execution_count": null,
   "id": "9be6ba7a",
   "metadata": {},
   "outputs": [],
   "source": [
    "Explain what inheritance is in object-oriented programming and why it is use?\n",
    "\n",
    "Inheritance allows a class(child class) to access all data variables and methods from its parent class(base class).\n",
    "With the help of inheritance, general/common variables and methods can be defined in parent class and can be accessed(reused) in all its child classes, instead of defining it again in the child classes.\n",
    "Main advantages of inheritance is reusability of code.\n",
    "    \n",
    "    "
   ]
  },
  {
   "cell_type": "code",
   "execution_count": null,
   "id": "087953c0",
   "metadata": {},
   "outputs": [],
   "source": [
    "Discuss the concept of single inheritance and multiple inheritance, highlighting their\n",
    "differences and advantages.\n",
    "\n",
    "Single inheritance is a concept of: a class inheriting variables and methods from a single class.\n",
    "eg:\n",
    "    class Person:#parent class\n",
    "        def __init__(self,name):\n",
    "            self.name=name\n",
    "        def display(self):\n",
    "            print(self.name)\n",
    "            \n",
    "    class Student(Person):#child class inheriting only one class(Person class)\n",
    "        pass\n",
    "    s1=Student(\"Raja\")\n",
    "    s1.display()\n",
    "    \n",
    "Multiple inheritance is concept of:a class interiting variables from multiple classes.In the below example Teacher class is inheriting 2 classes:Person and Employee\n",
    "eg:\n",
    "class Person:\n",
    "       \n",
    "        def displayPerson(self):\n",
    "            print(\"Able to access person class from child class\")\n",
    "            \n",
    "class Employee:\n",
    "        \n",
    "        def displayEmployee(self): \n",
    "            print(\"Able to access employee class from child class\")\n",
    "        \n",
    "class Teacher(Person,Employee):#inheriting Person and Employee classes\n",
    "        pass\n",
    "t1=Teacher()\n",
    "t1.displayPerson()\n",
    "t1.displayEmployee()\n",
    "__________________________________________________________________________________\n",
    "Advantages of single and multiple inheritance:-\n",
    "Single inheritance:Code resuability,Less overhead and requires less execution time than multiple inheritance.  \n",
    "Multple inheritance:Efficient when multiple people are working in a projectand multiple classes are written by different programmers.The needed methods from multiple classes can be inherited by multiple inheritance rather than writing them again.\n",
    "\n"
   ]
  },
  {
   "cell_type": "code",
   "execution_count": 15,
   "id": "94227d5c",
   "metadata": {},
   "outputs": [
    {
     "name": "stdout",
     "output_type": "stream",
     "text": [
      "Fridge L.G\n"
     ]
    }
   ],
   "source": [
    "class ElectronicDevice:\n",
    "    def __init__(self,name,brand):\n",
    "        self.name=name\n",
    "        self.brand=brand\n",
    "    def displayinfo(self):\n",
    "        print(self.name,self.brand)\n",
    "        \n",
    "class Oven(ElectronicDevice):\n",
    "    pass\n",
    "        \n",
    "\n",
    "o1=Oven(\"Fridge\",\"L.G\")\n",
    "o1.displayinfo()\n"
   ]
  },
  {
   "cell_type": "code",
   "execution_count": 14,
   "id": "7656261f",
   "metadata": {},
   "outputs": [
    {
     "ename": "SyntaxError",
     "evalue": "invalid syntax (Temp/ipykernel_98452/763971984.py, line 1)",
     "output_type": "error",
     "traceback": [
      "\u001b[1;36m  File \u001b[1;32m\"C:\\Users\\ASHISH~1\\AppData\\Local\\Temp/ipykernel_98452/763971984.py\"\u001b[1;36m, line \u001b[1;32m1\u001b[0m\n\u001b[1;33m    Explain the terms \"base class\" and \"derived class\" in the context of inheritance.\u001b[0m\n\u001b[1;37m            ^\u001b[0m\n\u001b[1;31mSyntaxError\u001b[0m\u001b[1;31m:\u001b[0m invalid syntax\n"
     ]
    }
   ],
   "source": [
    "Explain the terms \"base class\" and \"derived class\" in the context of inheritance.\n",
    "Base class: Base class is called the parent class which can have general methods and variables that can be used by its child/derived classes. \n",
    "Derived class: Derived class is the class which inherits the variables and methods of base class.It is also know as child class.\n",
    " \n",
    "In the below example,ElectronicDevice is the Base class and Oven is the derived class which inherits the variables and methods of base class.\n",
    "eg:\n",
    "class ElectronicDevice:\n",
    "    def __init__(self,name,brand):\n",
    "        self.name=name\n",
    "        self.brand=brand\n",
    "    def displayinfo(self):\n",
    "        print(self.name,self.brand)\n",
    "        \n",
    "class Oven(ElectronicDevice):\n",
    "    pass"
   ]
  },
  {
   "cell_type": "code",
   "execution_count": null,
   "id": "e7386771",
   "metadata": {},
   "outputs": [],
   "source": [
    "What is the significance of the \"protected\" access modifier in inheritance? How does\n",
    "it differ from \"private\" and \"public\" modifiers?\n",
    "\n",
    "Protected access modifier can be accessed only by derived class.They are denoted with a '_'as a suffix to  the variable name eg:_name\n",
    "Public variables can be accessed from anywhere.\n",
    "Private variables cannot be directly accessed in anyother class other than where it is defined. It is denoted by '__'as a suffix to variable name. eg:__name.We can access private variables explicitly by <objectname>._<Class name><private variable name>eg:s1._Student__name.\n",
    "Using private varibles provides security to the application."
   ]
  },
  {
   "cell_type": "code",
   "execution_count": null,
   "id": "b4ab53ef",
   "metadata": {},
   "outputs": [],
   "source": [
    "What is the purpose of the \"super\" keyword in inheritance? Provide an example.\n",
    "Super is used to access the variables and methods of parent class in child class.\n",
    "eg:\n",
    "    class Person:\n",
    "        def __init__(name,gender):\n",
    "            self.name=name\n",
    "            self.gender=gender\n",
    "    class Teacher(Person):\n",
    "        def __init__(self,name,gender,school):\n",
    "            self.school=school\n",
    "        super().__init__(name,gender)#here super() is used to access the variables(name and gender) of Parent class Person.\n",
    "    "
   ]
  },
  {
   "cell_type": "code",
   "execution_count": 41,
   "id": "1d421c47",
   "metadata": {},
   "outputs": [
    {
     "name": "stdout",
     "output_type": "stream",
     "text": [
      "i20 hyundai launched in 2014 uses diesel\n",
      "7 Series BMW launched in 1997 uses petrol\n"
     ]
    }
   ],
   "source": [
    "class Vehicle:#Vehicle is the base/Parent class\n",
    "    \n",
    "    def __init__(self,model,make,year):\n",
    "        self.model=model\n",
    "        self.make=make\n",
    "        self.year=year\n",
    "        \n",
    "    def get_Vehicledetails(self):\n",
    "        return self.model+\" \"+self.make +\" \"+\"launched in\"+\" \" +str(self.year)\n",
    "        \n",
    "class Car(Vehicle):#Car is the child class which inherits Base class Vehicle\n",
    "    \n",
    "    def __init__(self,model,make,year,fuel_type):\n",
    "        super().__init__(model,make,year)#Super() is used to access the variables of parent class(Vehicle).\n",
    "        self.fuel_type=fuel_type #This line initializes the attribute of child class\n",
    "        \n",
    "        \n",
    "    def get_Vehicledetails(self):#overriding the 'get_Vehicledetails' method of parent class in the child class \n",
    "        print(f\"{super().get_Vehicledetails()} uses {self.fuel_type}\") \n",
    "\n",
    "        \n",
    "i20=Car(\"i20\",\"hyundai\",2014,\"diesel\")\n",
    "bmw=Car(\"7 Series\",\"BMW\",1997,\"petrol\")\n",
    "i20.get_Vehicledetails()\n",
    "bmw.get_Vehicledetails()\n",
    "        "
   ]
  },
  {
   "cell_type": "code",
   "execution_count": 42,
   "id": "92a3c15c",
   "metadata": {},
   "outputs": [
    {
     "name": "stdout",
     "output_type": "stream",
     "text": [
      "Anitha is the manager of CSE department\n",
      "Ashish is a developer expert in Python\n"
     ]
    }
   ],
   "source": [
    "class Employee:#Parent class\n",
    "    def __init__(self,name,salary):\n",
    "        self.name=name\n",
    "        self.salary=salary\n",
    "        \n",
    "    def EmployeeInfo(self):\n",
    "        print(f\"{self.name} is a employee of our organization\")\n",
    "        \n",
    "class Manager(Employee):#Child class inheriting the Employee class\n",
    "    def __init__(self,name,salary,department):\n",
    "        super().__init__(name,salary)#Accessing parent variables using super()\n",
    "        self.department=department#child class instance variable\n",
    "    \n",
    "    def EmployeeInfo(self):#Overriding parent class EmployeeInfo method\n",
    "        print(f\"{self.name} is the manager of {self.department} department\")\n",
    "    \n",
    "class Developer(Employee):#Child class inheriting the Employee class\n",
    "        def __init__(self,name,salary,program_lang):\n",
    "            super().__init__(name,salary)#Accessing parent variables using super()\n",
    "            self.programming_language=program_lang\n",
    "            \n",
    "        def EmployeeInfo(self):#Overriding parent class EmployeeInfo method\n",
    "            print(f\"{self.name} is a developer expert in {self.programming_language}\")\n",
    "            \n",
    "        \n",
    "m1=Manager(\"Anitha\",1000000,\"CSE\")\n",
    "m1.EmployeeInfo()\n",
    "d1=Developer(\"Ashish\",750000,\"Python\")\n",
    "d1.EmployeeInfo()"
   ]
  },
  {
   "cell_type": "code",
   "execution_count": 43,
   "id": "49be1bd9",
   "metadata": {},
   "outputs": [
    {
     "name": "stdout",
     "output_type": "stream",
     "text": [
      "Area of a rectangle is600\n",
      "The rectangle is filled with Green color\n",
      "Area of a circle is 157\n",
      "The circle is filled with Red color\n"
     ]
    }
   ],
   "source": [
    "\n",
    "class Shape:#Parent class\n",
    "    def __init__(self,color,border_width):\n",
    "        self.colour=color\n",
    "        self.border_width=border_width\n",
    "        \n",
    "    def Fill(self):\n",
    "        print(f\"The color of the shape is {self.colour}\")\n",
    "        \n",
    "class Rectangle(Shape):#child class inheriting 'Shape'(Parent class)\n",
    "    def __init__(self,colour,border_width,length,width):\n",
    "        super().__init__(colour,border_width)\n",
    "        self.length=length\n",
    "        self.width=width\n",
    "        \n",
    "    def Area(self):#method to find area of rectangle\n",
    "        area_rectangle=self.length*self.width\n",
    "        print(f\"Area of a rectangle is{area_rectangle}\")\n",
    "        \n",
    "    def Fill(self):#overriding parent class 'Fill' method\n",
    "        print(f\"The rectangle is filled with {self.colour} color\")\n",
    "\n",
    "class Circle(Shape):#child class inheriting 'Shape'(Parent class)\n",
    "    def __init__(self,colour,border_width,radius):\n",
    "        super().__init__(colour,border_width)\n",
    "        self.radius=radius\n",
    "              \n",
    "    def Area(self):#method to find area of a circle\n",
    "        area_circle=2*3.14*pow(self.radius,2)\n",
    "        print(f\"Area of a circle is {round(area_circle)}\")\n",
    "        \n",
    "    def Fill(self):#overriding parent class 'Fill' method\n",
    "        print(f\"The circle is filled with {self.colour} color\")\n",
    "\n",
    "r1=Rectangle(\"Green\",\"2mm\",50,12)\n",
    "r1.Area()\n",
    "r1.Fill()                                     \n",
    "c1=Circle(\"Red\",\"3mm\",5) \n",
    "c1.Area()\n",
    "c1.Fill()                                     "
   ]
  },
  {
   "cell_type": "code",
   "execution_count": 45,
   "id": "320845c7",
   "metadata": {},
   "outputs": [
    {
     "name": "stdout",
     "output_type": "stream",
     "text": [
      "Details of the Phone are:-\n",
      "Brand:Samsung\n",
      "Model:Nseries\n",
      "Screen size:6\"\n",
      "Details of the Tablet are:-\n",
      "Brand:Apple\n",
      "Model:Pro 12.9\n",
      "Battery Capacity:9720mAh\n"
     ]
    }
   ],
   "source": [
    "class Device:#Parent class\n",
    "    def __init__(self,brand,model):\n",
    "        self.brand=brand\n",
    "        self.model=model\n",
    "        \n",
    "class Phone(Device):#Child class inheriting Device(Parent class)\n",
    "    def __init__(self,brand,model,screen_size):\n",
    "        super().__init__(brand,model)\n",
    "        self.screen_size=screen_size\n",
    "        \n",
    "        \n",
    "    def PhoneInfo(self):\n",
    "        \n",
    "        print(f\"Details of the Phone are:-\\nBrand:{self.brand}\\nModel:{self.model}\\nScreen size:{self.screen_size}\")\n",
    "        \n",
    "    \n",
    " \n",
    "class Tablet(Device):#child class inheriting Device(Parent class)\n",
    "    def __init__(self,brand,model,battery_capacity):\n",
    "        super().__init__(brand,model)\n",
    "        self.battery_capacity=battery_capacity\n",
    "        \n",
    "        \n",
    "    def TabletInfo(self):\n",
    "        \n",
    "        print(f\"Details of the Tablet are:-\\nBrand:{self.brand}\\nModel:{self.model}\\nBattery Capacity:{self.battery_capacity}\")\n",
    "        \n",
    "p1=Phone(\"Samsung\",\"Nseries\",'6\"')\n",
    "p1.PhoneInfo()\n",
    "t1=Tablet(\"Apple\",\"Pro 12.9\",\"9720mAh\")\n",
    "t1.TabletInfo()\n",
    " \n",
    "\n"
   ]
  },
  {
   "cell_type": "code",
   "execution_count": 1,
   "id": "85ad2686",
   "metadata": {},
   "outputs": [
    {
     "name": "stdout",
     "output_type": "stream",
     "text": [
      "Enter the interest rate for 1 year in decimals\n",
      "-1\n",
      "Invalid input\n",
      "Enter the interest rate for 1 year in decimals\n",
      "0\n",
      "Invalid input\n",
      "Enter the interest rate for 1 year in decimals\n",
      "1\n",
      "Invalid input\n",
      "Enter the interest rate for 1 year in decimals\n",
      "2.3\n",
      "Invalid input\n",
      "Enter the interest rate for 1 year in decimals\n",
      "-1.5\n",
      "Invalid input\n",
      "Enter the interest rate for 1 year in decimals\n",
      "0.4\n",
      "The interest of your savings account is 800000.0\n",
      "Balance after adding the interest is 2800000.0\n",
      "Enter the charges for the checking account800\n",
      "Balance after deducting charges are 2799200.0\n"
     ]
    }
   ],
   "source": [
    "class BankAccount:#Parent class\n",
    "    balance=2000000 #balance is a class variable shared among all the instnces of the class\n",
    "    def __init__(self,acc_no):\n",
    "        self.account_number=acc_no\n",
    "     \n",
    "        \n",
    "class SavingsAccount(BankAccount):#child class inheriting Parent class(BankAccount)\n",
    "      \n",
    "      \n",
    "    def Calculate_interest(self):\n",
    "        while True:\n",
    "            interest_rate=float(input(\"Enter the interest rate for 1 year in decimals\\n\"))#interest_rate is a local variable\n",
    "            if interest_rate<=0 or interest_rate>=1:\n",
    "                print(\"Invalid input\")\n",
    "                continue\n",
    "            else:\n",
    "                break\n",
    "        interest=BankAccount.balance*interest_rate*1 #formula to calculate the interest/per year\n",
    "        BankAccount.balance=BankAccount.balance+interest#Updating class variable\n",
    "        print(f\"The interest of your savings account is {interest}\")\n",
    "        print(f\"Balance after adding the interest is {BankAccount.balance}\")\n",
    "            \n",
    "class CheckingAccount(BankAccount):\n",
    "    \n",
    "    def Deduct_fee(self):\n",
    "        charges=int(input(\"Enter the charges for the checking account\"))\n",
    "        fee=BankAccount.balance-charges #fee is a local variable\n",
    "        print(f\"Balance after deducting charges are {fee}\")\n",
    "        \n",
    "          \n",
    "s1=SavingsAccount(980780680)\n",
    "s1.Calculate_interest()\n",
    "c1=CheckingAccount(980780680)\n",
    "c1.Deduct_fee()"
   ]
  },
  {
   "cell_type": "code",
   "execution_count": null,
   "id": "7d1fd7bd",
   "metadata": {},
   "outputs": [],
   "source": []
  },
  {
   "cell_type": "code",
   "execution_count": null,
   "id": "f3c72f08",
   "metadata": {},
   "outputs": [],
   "source": []
  },
  {
   "cell_type": "code",
   "execution_count": null,
   "id": "50f3a5c9",
   "metadata": {},
   "outputs": [],
   "source": []
  }
 ],
 "metadata": {
  "kernelspec": {
   "display_name": "Python 3 (ipykernel)",
   "language": "python",
   "name": "python3"
  },
  "language_info": {
   "codemirror_mode": {
    "name": "ipython",
    "version": 3
   },
   "file_extension": ".py",
   "mimetype": "text/x-python",
   "name": "python",
   "nbconvert_exporter": "python",
   "pygments_lexer": "ipython3",
   "version": "3.9.7"
  }
 },
 "nbformat": 4,
 "nbformat_minor": 5
}
